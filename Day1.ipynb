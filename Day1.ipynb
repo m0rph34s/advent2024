{
 "cells": [
  {
   "cell_type": "code",
   "execution_count": 2,
   "metadata": {},
   "outputs": [],
   "source": [
    "list1 = []\n",
    "list2 = []\n",
    "with open(\"day1_input.txt\", \"r\") as f:\n",
    "    for line in f:\n",
    "        (item1,item2) = line.split(\"   \")\n",
    "        list1.append(int(item1))\n",
    "        list2.append(int(item2.rstrip()))"
   ]
  },
  {
   "cell_type": "code",
   "execution_count": 3,
   "metadata": {},
   "outputs": [
    {
     "name": "stdout",
     "output_type": "stream",
     "text": [
      "2113135\n"
     ]
    }
   ],
   "source": [
    "list1.sort()\n",
    "list2.sort()\n",
    "\n",
    "distance=0\n",
    "for i in range(len(list1)):\n",
    "    distance+=(abs(list1[i]-list2[i]))\n",
    "print(distance)"
   ]
  },
  {
   "cell_type": "code",
   "execution_count": 4,
   "metadata": {},
   "outputs": [
    {
     "name": "stdout",
     "output_type": "stream",
     "text": [
      "19097157\n"
     ]
    }
   ],
   "source": [
    "similarity=0\n",
    "for loc in list1:\n",
    "    similarity += loc * list2.count(loc)\n",
    "print(similarity)"
   ]
  }
 ],
 "metadata": {
  "kernelspec": {
   "display_name": "base",
   "language": "python",
   "name": "python3"
  },
  "language_info": {
   "codemirror_mode": {
    "name": "ipython",
    "version": 3
   },
   "file_extension": ".py",
   "mimetype": "text/x-python",
   "name": "python",
   "nbconvert_exporter": "python",
   "pygments_lexer": "ipython3",
   "version": "3.11.7"
  }
 },
 "nbformat": 4,
 "nbformat_minor": 2
}
